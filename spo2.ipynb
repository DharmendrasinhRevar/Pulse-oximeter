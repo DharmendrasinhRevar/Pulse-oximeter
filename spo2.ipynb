{
 "cells": [
  {
   "cell_type": "code",
   "execution_count": 2,
   "metadata": {},
   "outputs": [
    {
     "data": {
      "text/html": [
       "<div>\n",
       "<style scoped>\n",
       "    .dataframe tbody tr th:only-of-type {\n",
       "        vertical-align: middle;\n",
       "    }\n",
       "\n",
       "    .dataframe tbody tr th {\n",
       "        vertical-align: top;\n",
       "    }\n",
       "\n",
       "    .dataframe thead th {\n",
       "        text-align: right;\n",
       "    }\n",
       "</style>\n",
       "<table border=\"1\" class=\"dataframe\">\n",
       "  <thead>\n",
       "    <tr style=\"text-align: right;\">\n",
       "      <th></th>\n",
       "      <th>gender</th>\n",
       "      <th>SpO2</th>\n",
       "      <th>HR</th>\n",
       "      <th>age</th>\n",
       "      <th>health</th>\n",
       "    </tr>\n",
       "  </thead>\n",
       "  <tbody>\n",
       "    <tr>\n",
       "      <th>0</th>\n",
       "      <td>1</td>\n",
       "      <td>93</td>\n",
       "      <td>82</td>\n",
       "      <td>68</td>\n",
       "      <td>1</td>\n",
       "    </tr>\n",
       "    <tr>\n",
       "      <th>1</th>\n",
       "      <td>1</td>\n",
       "      <td>98</td>\n",
       "      <td>72</td>\n",
       "      <td>61</td>\n",
       "      <td>9</td>\n",
       "    </tr>\n",
       "    <tr>\n",
       "      <th>2</th>\n",
       "      <td>2</td>\n",
       "      <td>100</td>\n",
       "      <td>91</td>\n",
       "      <td>78</td>\n",
       "      <td>9</td>\n",
       "    </tr>\n",
       "    <tr>\n",
       "      <th>3</th>\n",
       "      <td>1</td>\n",
       "      <td>98</td>\n",
       "      <td>59</td>\n",
       "      <td>58</td>\n",
       "      <td>6</td>\n",
       "    </tr>\n",
       "    <tr>\n",
       "      <th>4</th>\n",
       "      <td>1</td>\n",
       "      <td>100</td>\n",
       "      <td>63</td>\n",
       "      <td>78</td>\n",
       "      <td>9</td>\n",
       "    </tr>\n",
       "  </tbody>\n",
       "</table>\n",
       "</div>"
      ],
      "text/plain": [
       "   gender  SpO2  HR  age  health\n",
       "0       1    93  82   68       1\n",
       "1       1    98  72   61       9\n",
       "2       2   100  91   78       9\n",
       "3       1    98  59   58       6\n",
       "4       1   100  63   78       9"
      ]
     },
     "execution_count": 2,
     "metadata": {},
     "output_type": "execute_result"
    }
   ],
   "source": [
    "# we are sing pandas for this example\n",
    "\n",
    "# Pandas is used for data manipulation\n",
    "import pandas as pd\n",
    "# Read in data and display first 5 rows\n",
    "features = pd.read_csv('data_new_new.csv')\n",
    "features.head()"
   ]
  },
  {
   "cell_type": "code",
   "execution_count": 5,
   "metadata": {},
   "outputs": [
    {
     "name": "stdout",
     "output_type": "stream",
     "text": [
      "The shape of our features is: (1303, 5)\n"
     ]
    }
   ],
   "source": [
    "#we have details of our data set, this confirm correct data - set in our variable (features)\n",
    "\n",
    "#Information on Data - Set\n",
    "print('The shape of our features is:', features.shape)\n"
   ]
  },
  {
   "cell_type": "code",
   "execution_count": 6,
   "metadata": {},
   "outputs": [
    {
     "name": "stdout",
     "output_type": "stream",
     "text": [
      "<class 'pandas.core.frame.DataFrame'>\n",
      "RangeIndex: 1303 entries, 0 to 1302\n",
      "Data columns (total 5 columns):\n",
      "gender    1303 non-null int64\n",
      "SpO2      1303 non-null int64\n",
      "HR        1303 non-null int64\n",
      "age       1303 non-null int64\n",
      "health    1303 non-null int64\n",
      "dtypes: int64(5)\n",
      "memory usage: 51.0 KB\n"
     ]
    }
   ],
   "source": [
    "features.info()"
   ]
  },
  {
   "cell_type": "code",
   "execution_count": 8,
   "metadata": {},
   "outputs": [
    {
     "data": {
      "text/plain": [
       "[]"
      ]
     },
     "execution_count": 8,
     "metadata": {},
     "output_type": "execute_result"
    }
   ],
   "source": [
    "categorical = list(features.select_dtypes(include=['object']).columns.values)\n",
    "categorical"
   ]
  },
  {
   "cell_type": "code",
   "execution_count": 9,
   "metadata": {},
   "outputs": [
    {
     "data": {
      "text/html": [
       "<div>\n",
       "<style scoped>\n",
       "    .dataframe tbody tr th:only-of-type {\n",
       "        vertical-align: middle;\n",
       "    }\n",
       "\n",
       "    .dataframe tbody tr th {\n",
       "        vertical-align: top;\n",
       "    }\n",
       "\n",
       "    .dataframe thead th {\n",
       "        text-align: right;\n",
       "    }\n",
       "</style>\n",
       "<table border=\"1\" class=\"dataframe\">\n",
       "  <thead>\n",
       "    <tr style=\"text-align: right;\">\n",
       "      <th></th>\n",
       "      <th>gender</th>\n",
       "      <th>SpO2</th>\n",
       "      <th>HR</th>\n",
       "      <th>age</th>\n",
       "      <th>health</th>\n",
       "    </tr>\n",
       "  </thead>\n",
       "  <tbody>\n",
       "    <tr>\n",
       "      <th>0</th>\n",
       "      <td>1</td>\n",
       "      <td>93</td>\n",
       "      <td>82</td>\n",
       "      <td>68</td>\n",
       "      <td>1</td>\n",
       "    </tr>\n",
       "    <tr>\n",
       "      <th>1</th>\n",
       "      <td>1</td>\n",
       "      <td>98</td>\n",
       "      <td>72</td>\n",
       "      <td>61</td>\n",
       "      <td>9</td>\n",
       "    </tr>\n",
       "    <tr>\n",
       "      <th>2</th>\n",
       "      <td>2</td>\n",
       "      <td>100</td>\n",
       "      <td>91</td>\n",
       "      <td>78</td>\n",
       "      <td>9</td>\n",
       "    </tr>\n",
       "    <tr>\n",
       "      <th>3</th>\n",
       "      <td>1</td>\n",
       "      <td>98</td>\n",
       "      <td>59</td>\n",
       "      <td>58</td>\n",
       "      <td>6</td>\n",
       "    </tr>\n",
       "    <tr>\n",
       "      <th>4</th>\n",
       "      <td>1</td>\n",
       "      <td>100</td>\n",
       "      <td>63</td>\n",
       "      <td>78</td>\n",
       "      <td>9</td>\n",
       "    </tr>\n",
       "  </tbody>\n",
       "</table>\n",
       "</div>"
      ],
      "text/plain": [
       "   gender  SpO2  HR  age  health\n",
       "0       1    93  82   68       1\n",
       "1       1    98  72   61       9\n",
       "2       2   100  91   78       9\n",
       "3       1    98  59   58       6\n",
       "4       1   100  63   78       9"
      ]
     },
     "execution_count": 9,
     "metadata": {},
     "output_type": "execute_result"
    }
   ],
   "source": [
    "from sklearn.preprocessing import LabelEncoder\n",
    "le = LabelEncoder()\n",
    "for i in range(0, len(categorical)):\n",
    "    features[categorical[i]] = le.fit_transform(features[categorical[i]])\n",
    "features.head()"
   ]
  },
  {
   "cell_type": "code",
   "execution_count": 10,
   "metadata": {},
   "outputs": [
    {
     "data": {
      "text/plain": [
       "1    658\n",
       "2    645\n",
       "Name: gender, dtype: int64"
      ]
     },
     "execution_count": 10,
     "metadata": {},
     "output_type": "execute_result"
    }
   ],
   "source": [
    "features['gender'].value_counts()"
   ]
  },
  {
   "cell_type": "code",
   "execution_count": 11,
   "metadata": {},
   "outputs": [
    {
     "name": "stderr",
     "output_type": "stream",
     "text": [
      "c:\\users\\dharmendra\\appdata\\local\\programs\\python\\python37-32\\lib\\site-packages\\pandas\\plotting\\_matplotlib\\tools.py:307: MatplotlibDeprecationWarning: \n",
      "The rowNum attribute was deprecated in Matplotlib 3.2 and will be removed two minor releases later. Use ax.get_subplotspec().rowspan.start instead.\n",
      "  layout[ax.rowNum, ax.colNum] = ax.get_visible()\n",
      "c:\\users\\dharmendra\\appdata\\local\\programs\\python\\python37-32\\lib\\site-packages\\pandas\\plotting\\_matplotlib\\tools.py:307: MatplotlibDeprecationWarning: \n",
      "The colNum attribute was deprecated in Matplotlib 3.2 and will be removed two minor releases later. Use ax.get_subplotspec().colspan.start instead.\n",
      "  layout[ax.rowNum, ax.colNum] = ax.get_visible()\n",
      "c:\\users\\dharmendra\\appdata\\local\\programs\\python\\python37-32\\lib\\site-packages\\pandas\\plotting\\_matplotlib\\tools.py:313: MatplotlibDeprecationWarning: \n",
      "The rowNum attribute was deprecated in Matplotlib 3.2 and will be removed two minor releases later. Use ax.get_subplotspec().rowspan.start instead.\n",
      "  if not layout[ax.rowNum + 1, ax.colNum]:\n",
      "c:\\users\\dharmendra\\appdata\\local\\programs\\python\\python37-32\\lib\\site-packages\\pandas\\plotting\\_matplotlib\\tools.py:313: MatplotlibDeprecationWarning: \n",
      "The colNum attribute was deprecated in Matplotlib 3.2 and will be removed two minor releases later. Use ax.get_subplotspec().colspan.start instead.\n",
      "  if not layout[ax.rowNum + 1, ax.colNum]:\n"
     ]
    },
    {
     "data": {
      "text/plain": [
       "array([[<matplotlib.axes._subplots.AxesSubplot object at 0x0E9A3CD0>,\n",
       "        <matplotlib.axes._subplots.AxesSubplot object at 0x0FD30210>,\n",
       "        <matplotlib.axes._subplots.AxesSubplot object at 0x0FD4CA10>,\n",
       "        <matplotlib.axes._subplots.AxesSubplot object at 0x0FD72230>,\n",
       "        <matplotlib.axes._subplots.AxesSubplot object at 0x0FD8FA30>],\n",
       "       [<matplotlib.axes._subplots.AxesSubplot object at 0x0FDB5250>,\n",
       "        <matplotlib.axes._subplots.AxesSubplot object at 0x0FDD0A90>,\n",
       "        <matplotlib.axes._subplots.AxesSubplot object at 0x0FDF8250>,\n",
       "        <matplotlib.axes._subplots.AxesSubplot object at 0x0FDF8270>,\n",
       "        <matplotlib.axes._subplots.AxesSubplot object at 0x0FE14AF0>],\n",
       "       [<matplotlib.axes._subplots.AxesSubplot object at 0x0FE57A90>,\n",
       "        <matplotlib.axes._subplots.AxesSubplot object at 0x0FE7C2B0>,\n",
       "        <matplotlib.axes._subplots.AxesSubplot object at 0x0FE98AB0>,\n",
       "        <matplotlib.axes._subplots.AxesSubplot object at 0x0FEBC2D0>,\n",
       "        <matplotlib.axes._subplots.AxesSubplot object at 0x0FEDAAD0>],\n",
       "       [<matplotlib.axes._subplots.AxesSubplot object at 0x0FF002F0>,\n",
       "        <matplotlib.axes._subplots.AxesSubplot object at 0x0FF1BAF0>,\n",
       "        <matplotlib.axes._subplots.AxesSubplot object at 0x0FF42310>,\n",
       "        <matplotlib.axes._subplots.AxesSubplot object at 0x0FF5FB10>,\n",
       "        <matplotlib.axes._subplots.AxesSubplot object at 0x0FF84330>],\n",
       "       [<matplotlib.axes._subplots.AxesSubplot object at 0x0FF9FB30>,\n",
       "        <matplotlib.axes._subplots.AxesSubplot object at 0x0FFC5350>,\n",
       "        <matplotlib.axes._subplots.AxesSubplot object at 0x0FFE2B50>,\n",
       "        <matplotlib.axes._subplots.AxesSubplot object at 0x10007370>,\n",
       "        <matplotlib.axes._subplots.AxesSubplot object at 0x10024B70>]],\n",
       "      dtype=object)"
      ]
     },
     "execution_count": 11,
     "metadata": {},
     "output_type": "execute_result"
    },
    {
     "data": {
      "image/png": "[encoded data removed]",
      "text/plain": [
       "<Figure size 864x576 with 25 Axes>"
      ]
     },
     "metadata": {
      "needs_background": "light"
     },
     "output_type": "display_data"
    }
   ],
   "source": [
    "from pandas.plotting import scatter_matrix\n",
    "attributes = [\"gender\", \"SpO2\", \"HR\", \"age\", \"health\"]\n",
    "scatter_matrix(features[attributes], figsize = (12,8))"
   ]
  },
  {
   "cell_type": "code",
   "execution_count": 12,
   "metadata": {},
   "outputs": [],
   "source": [
    "#features.plot(kind=\"scatter\", x=\"SpO2\", y=\"health\", alpha=0.8)"
   ]
  },
  {
   "cell_type": "code",
   "execution_count": 13,
   "metadata": {},
   "outputs": [
    {
     "name": "stdout",
     "output_type": "stream",
     "text": [
      "<class 'pandas.core.frame.DataFrame'>\n",
      "Int64Index: 1303 entries, 0 to 1302\n",
      "Data columns (total 5 columns):\n",
      "gender    1303 non-null int64\n",
      "SpO2      1303 non-null int64\n",
      "HR        1303 non-null int64\n",
      "age       1303 non-null int64\n",
      "health    1303 non-null int64\n",
      "dtypes: int64(5)\n",
      "memory usage: 61.1 KB\n"
     ]
    }
   ],
   "source": [
    "features.info()"
   ]
  },
  {
   "cell_type": "code",
   "execution_count": 14,
   "metadata": {},
   "outputs": [
    {
     "data": {
      "text/html": [
       "<div>\n",
       "<style scoped>\n",
       "    .dataframe tbody tr th:only-of-type {\n",
       "        vertical-align: middle;\n",
       "    }\n",
       "\n",
       "    .dataframe tbody tr th {\n",
       "        vertical-align: top;\n",
       "    }\n",
       "\n",
       "    .dataframe thead th {\n",
       "        text-align: right;\n",
       "    }\n",
       "</style>\n",
       "<table border=\"1\" class=\"dataframe\">\n",
       "  <thead>\n",
       "    <tr style=\"text-align: right;\">\n",
       "      <th></th>\n",
       "      <th>gender</th>\n",
       "      <th>SpO2</th>\n",
       "      <th>HR</th>\n",
       "      <th>age</th>\n",
       "      <th>health</th>\n",
       "    </tr>\n",
       "  </thead>\n",
       "  <tbody>\n",
       "    <tr>\n",
       "      <th>count</th>\n",
       "      <td>1303.000000</td>\n",
       "      <td>1303.000000</td>\n",
       "      <td>1303.000000</td>\n",
       "      <td>1303.000000</td>\n",
       "      <td>1303.000000</td>\n",
       "    </tr>\n",
       "    <tr>\n",
       "      <th>mean</th>\n",
       "      <td>1.495012</td>\n",
       "      <td>96.419800</td>\n",
       "      <td>85.702993</td>\n",
       "      <td>64.733691</td>\n",
       "      <td>6.851113</td>\n",
       "    </tr>\n",
       "    <tr>\n",
       "      <th>std</th>\n",
       "      <td>0.500167</td>\n",
       "      <td>3.871136</td>\n",
       "      <td>21.273944</td>\n",
       "      <td>18.011572</td>\n",
       "      <td>2.903083</td>\n",
       "    </tr>\n",
       "    <tr>\n",
       "      <th>min</th>\n",
       "      <td>1.000000</td>\n",
       "      <td>45.000000</td>\n",
       "      <td>12.000000</td>\n",
       "      <td>18.000000</td>\n",
       "      <td>1.000000</td>\n",
       "    </tr>\n",
       "    <tr>\n",
       "      <th>25%</th>\n",
       "      <td>1.000000</td>\n",
       "      <td>95.000000</td>\n",
       "      <td>71.000000</td>\n",
       "      <td>52.000000</td>\n",
       "      <td>5.000000</td>\n",
       "    </tr>\n",
       "    <tr>\n",
       "      <th>50%</th>\n",
       "      <td>1.000000</td>\n",
       "      <td>97.000000</td>\n",
       "      <td>83.000000</td>\n",
       "      <td>66.000000</td>\n",
       "      <td>9.000000</td>\n",
       "    </tr>\n",
       "    <tr>\n",
       "      <th>75%</th>\n",
       "      <td>2.000000</td>\n",
       "      <td>99.000000</td>\n",
       "      <td>98.000000</td>\n",
       "      <td>80.000000</td>\n",
       "      <td>9.000000</td>\n",
       "    </tr>\n",
       "    <tr>\n",
       "      <th>max</th>\n",
       "      <td>2.000000</td>\n",
       "      <td>100.000000</td>\n",
       "      <td>180.000000</td>\n",
       "      <td>99.000000</td>\n",
       "      <td>9.000000</td>\n",
       "    </tr>\n",
       "  </tbody>\n",
       "</table>\n",
       "</div>"
      ],
      "text/plain": [
       "            gender         SpO2           HR          age       health\n",
       "count  1303.000000  1303.000000  1303.000000  1303.000000  1303.000000\n",
       "mean      1.495012    96.419800    85.702993    64.733691     6.851113\n",
       "std       0.500167     3.871136    21.273944    18.011572     2.903083\n",
       "min       1.000000    45.000000    12.000000    18.000000     1.000000\n",
       "25%       1.000000    95.000000    71.000000    52.000000     5.000000\n",
       "50%       1.000000    97.000000    83.000000    66.000000     9.000000\n",
       "75%       2.000000    99.000000    98.000000    80.000000     9.000000\n",
       "max       2.000000   100.000000   180.000000    99.000000     9.000000"
      ]
     },
     "execution_count": 14,
     "metadata": {},
     "output_type": "execute_result"
    }
   ],
   "source": [
    "# shape tells us matrix dimension we have or data in\n",
    "\n",
    "# Descriptive statistics for each column\n",
    "features.describe()"
   ]
  },
  {
   "cell_type": "code",
   "execution_count": 15,
   "metadata": {},
   "outputs": [
    {
     "data": {
      "text/html": [
       "<div>\n",
       "<style scoped>\n",
       "    .dataframe tbody tr th:only-of-type {\n",
       "        vertical-align: middle;\n",
       "    }\n",
       "\n",
       "    .dataframe tbody tr th {\n",
       "        vertical-align: top;\n",
       "    }\n",
       "\n",
       "    .dataframe thead th {\n",
       "        text-align: right;\n",
       "    }\n",
       "</style>\n",
       "<table border=\"1\" class=\"dataframe\">\n",
       "  <thead>\n",
       "    <tr style=\"text-align: right;\">\n",
       "      <th></th>\n",
       "      <th>gender</th>\n",
       "      <th>SpO2</th>\n",
       "      <th>HR</th>\n",
       "      <th>age</th>\n",
       "      <th>health</th>\n",
       "    </tr>\n",
       "  </thead>\n",
       "  <tbody>\n",
       "    <tr>\n",
       "      <th>0</th>\n",
       "      <td>1</td>\n",
       "      <td>93</td>\n",
       "      <td>82</td>\n",
       "      <td>68</td>\n",
       "      <td>1</td>\n",
       "    </tr>\n",
       "    <tr>\n",
       "      <th>1</th>\n",
       "      <td>1</td>\n",
       "      <td>98</td>\n",
       "      <td>72</td>\n",
       "      <td>61</td>\n",
       "      <td>9</td>\n",
       "    </tr>\n",
       "    <tr>\n",
       "      <th>2</th>\n",
       "      <td>2</td>\n",
       "      <td>100</td>\n",
       "      <td>91</td>\n",
       "      <td>78</td>\n",
       "      <td>9</td>\n",
       "    </tr>\n",
       "    <tr>\n",
       "      <th>3</th>\n",
       "      <td>1</td>\n",
       "      <td>98</td>\n",
       "      <td>59</td>\n",
       "      <td>58</td>\n",
       "      <td>6</td>\n",
       "    </tr>\n",
       "    <tr>\n",
       "      <th>4</th>\n",
       "      <td>1</td>\n",
       "      <td>100</td>\n",
       "      <td>63</td>\n",
       "      <td>78</td>\n",
       "      <td>9</td>\n",
       "    </tr>\n",
       "  </tbody>\n",
       "</table>\n",
       "</div>"
      ],
      "text/plain": [
       "   gender  SpO2  HR  age  health\n",
       "0       1    93  82   68       1\n",
       "1       1    98  72   61       9\n",
       "2       2   100  91   78       9\n",
       "3       1    98  59   58       6\n",
       "4       1   100  63   78       9"
      ]
     },
     "execution_count": 15,
     "metadata": {},
     "output_type": "execute_result"
    }
   ],
   "source": [
    "# above we have more in depth description of our data - set\n",
    "\n",
    "# One-hot encode the data using pandas get_dummies\n",
    "features = pd.get_dummies(features)\n",
    "# Display the first 5 rows of the last 12 columns\n",
    "features.iloc[:,0:].head(5)"
   ]
  },
  {
   "cell_type": "code",
   "execution_count": 16,
   "metadata": {},
   "outputs": [],
   "source": [
    "\n",
    "\n",
    "# Use numpy to convert to arrays\n",
    "import numpy as np\n",
    "# Labels are the values we want to predict\n",
    "labels = np.array(features['health'])\n",
    "# Remove the labels from the features\n",
    "# axis 1 refers to the columns\n",
    "features= features.drop('health', axis = 1)\n",
    "# Saving feature names for later use\n",
    "feature_list = list(features.columns)\n",
    "# Convert to numpy array\n",
    "features = np.array(features)"
   ]
  },
  {
   "cell_type": "code",
   "execution_count": 17,
   "metadata": {},
   "outputs": [],
   "source": [
    "# above we converted the data set variable into numpy array (to make it easier to work with in pandas)\n",
    "\n",
    "# Using Skicit-learn to split data into training and testing sets\n",
    "from sklearn.model_selection import train_test_split\n",
    "# Split the data into training and testing sets\n",
    "train_features, test_features, train_labels, test_labels = train_test_split(features, labels, test_size = 0.25, random_state = 42)\n"
   ]
  },
  {
   "cell_type": "code",
   "execution_count": 18,
   "metadata": {},
   "outputs": [],
   "source": [
    "# we made training set i.e the set of data we train our model with and test set i.e the data set we test our data on\n",
    "# it is important that the testing set is not known to model while training\n",
    "# we calulate our accuracy with this only\n",
    "\n",
    "# Use numpy to convert to arrays\n",
    "import numpy as np\n",
    "\n",
    "# Convert to numpy array\n",
    "features = np.array(features)"
   ]
  },
  {
   "cell_type": "code",
   "execution_count": 19,
   "metadata": {},
   "outputs": [],
   "source": [
    "# Using Skicit-learn to split data into training and testing sets\n",
    "from sklearn.model_selection import train_test_split\n",
    "# Split the data into training and testing sets\n",
    "train_features, test_features = train_test_split(features, test_size = 0.25, random_state = 42)"
   ]
  },
  {
   "cell_type": "code",
   "execution_count": 20,
   "metadata": {},
   "outputs": [
    {
     "name": "stdout",
     "output_type": "stream",
     "text": [
      "[9 9 9 7 4 9 9 9 9 9 1 9 1 6 6 9 9 9 1 9 1 4 9 9 8 7 9 9 9 5 9 1 3 1 9 9 5\n",
      " 1 1 8 6 9 9 7 7 9 6 7 1 7 3 9 9 9 9 9 9 6 9 9 7 9 9 9 3 6 9 7 7 9 9 9 9 7\n",
      " 9 6 1 9 9 1 1 9 9 1 7 1 1 1 1 5 1 9 9 9 1 9 9 7 9 7 7 9 9 1 9 9 5 7 7 9 9\n",
      " 7 9 6 1 1 2 9 3 9 7 9 9 9 7 3 7 9 9 9 1 3 5 7 9 9 7 1 9 9 9 9 9 1 9 3 9 9\n",
      " 9 7 7 1 9 6 7 3 6 6 9 1 9 9 1 7 7 9 6 9 4 5 9 8 3 9 2 1 9 3 1 9 1 9 8 7 7\n",
      " 3 1 9 9 7 7 9 9 9 9 3 4 9 1 9 7 9 3 1 3 7 9 9 5 9 5 1 9 9 9 9 1 9 9 7 9 4\n",
      " 9 9 9 9 9 4 9 9 9 9 9 9 7 3 2 9 9 9 9 9 9 7 9 9 3 9 9 9 7 5 9 7 9 1 9 7 9\n",
      " 9 9 9 1 9 7 9 9 1 9 9 6 7 9 7 9 1 9 7 9 3 5 1 1 9 3 7 9 8 2 1 9 9 1 9 9 1\n",
      " 7 1 1 9 9 2 7 9 9 9 9 9 9 9 9 9 7 9 7 7 7 9 1 7 1 9 7 9 1 9]\n"
     ]
    }
   ],
   "source": [
    "print(test_labels)"
   ]
  },
  {
   "cell_type": "code",
   "execution_count": 21,
   "metadata": {},
   "outputs": [
    {
     "name": "stdout",
     "output_type": "stream",
     "text": [
      "Training Features Shape: (977, 4)\n",
      "Training Labels Shape: (977,)\n",
      "Testing Features Shape: (326, 4)\n",
      "Testing Labels Shape: (326,)\n"
     ]
    }
   ],
   "source": [
    "print('Training Features Shape:', train_features.shape)\n",
    "print('Training Labels Shape:', train_labels.shape)\n",
    "print('Testing Features Shape:', test_features.shape)\n",
    "print('Testing Labels Shape:', test_labels.shape)"
   ]
  },
  {
   "cell_type": "code",
   "execution_count": 22,
   "metadata": {},
   "outputs": [
    {
     "name": "stdout",
     "output_type": "stream",
     "text": [
      "\n"
     ]
    }
   ],
   "source": [
    "print()"
   ]
  },
  {
   "cell_type": "code",
   "execution_count": 23,
   "metadata": {},
   "outputs": [
    {
     "name": "stdout",
     "output_type": "stream",
     "text": [
      "Average baseline error:  57.74\n"
     ]
    }
   ],
   "source": [
    "# The baseline predictions are the historical averages\n",
    "baseline_preds = test_features[:, feature_list.index('age')]\n",
    "# Baseline errors, and display average baseline error\n",
    "baseline_errors = abs(baseline_preds - test_labels)\n",
    "print('Average baseline error: ', round(np.mean(baseline_errors), 2))"
   ]
  },
  {
   "cell_type": "code",
   "execution_count": 24,
   "metadata": {},
   "outputs": [],
   "source": [
    "# Import the model we are using\n",
    "from sklearn.linear_model import LinearRegression\n",
    "from sklearn.tree import DecisionTreeRegressor\n",
    "from sklearn.ensemble import RandomForestRegressor\n",
    "from sklearn.neighbors import KNeighborsClassifier\n",
    "# Instantiate model with 1000 decision trees\n",
    "#rf = LinearRegression()\n",
    "#rf = DecisionTreeRegressor()\n",
    "rf = RandomForestRegressor(n_estimators = 1000, random_state = 42)\n",
    "#rf = RandomForestRegressor()\n",
    "#rf = KNeighborsClassifier()\n",
    "# Train the model on training data\n",
    "rf.fit(train_features, train_labels);"
   ]
  },
  {
   "cell_type": "code",
   "execution_count": 25,
   "metadata": {},
   "outputs": [
    {
     "name": "stdout",
     "output_type": "stream",
     "text": [
      "Mean Absolute Error: 0.01 \n",
      "[0.    0.    0.    0.    0.    0.    0.    0.    0.    0.    0.    0.\n",
      " 0.    0.    0.    0.    0.    0.    0.019 0.    0.    0.    0.    0.\n",
      " 0.304 0.    0.    0.    0.    0.1   0.    0.    0.    0.    0.    0.\n",
      " 0.128 0.    0.    0.414 0.    0.    0.    0.    0.    0.    0.    0.\n",
      " 0.    0.    0.    0.    0.    0.    0.    0.    0.    0.    0.    0.\n",
      " 0.    0.    0.    0.    0.    0.    0.    0.    0.    0.    0.    0.\n",
      " 0.    0.    0.    0.    0.    0.    0.    0.    0.    0.    0.    0.\n",
      " 0.    0.    0.    0.    0.    0.1   0.    0.    0.    0.    0.    0.\n",
      " 0.    0.    0.    0.    0.    0.    0.    0.    0.    0.    0.    0.\n",
      " 0.    0.    0.    0.    0.    0.    0.    0.    0.008 0.    0.    0.\n",
      " 0.    0.    0.    0.    0.    0.    0.    0.    0.    0.    0.    0.\n",
      " 0.003 0.    0.    0.    0.    0.    0.    0.    0.    0.    0.    0.\n",
      " 0.    0.    0.    0.    0.    0.    0.    0.    0.    0.    0.    0.\n",
      " 0.    0.    0.    0.    0.    0.    0.    0.    0.    0.    0.    0.\n",
      " 0.    0.    0.    0.012 0.    0.    0.    0.    0.    0.    0.    0.\n",
      " 0.    0.    0.318 0.    0.    0.    0.    0.    0.    0.    0.    0.\n",
      " 0.    0.    0.    0.    0.112 0.    0.    0.    0.    0.    0.    0.\n",
      " 0.    0.    0.    0.    0.    0.    0.    0.    0.    0.    0.    0.\n",
      " 0.    0.    0.    0.    0.    0.    0.    0.    0.    0.    0.    0.007\n",
      " 0.    0.    0.    0.    0.    0.    0.    0.    0.008 0.    0.    0.\n",
      " 0.    0.    0.    0.    0.    0.    0.    0.    0.    0.    0.    0.1\n",
      " 0.    0.    0.    0.306 0.    0.    0.    0.    0.    0.    0.    0.\n",
      " 0.    0.    0.    0.    0.    0.    0.    0.    0.    0.    0.    0.\n",
      " 0.    0.    0.    0.    0.    0.    0.    0.    0.    0.    0.    0.006\n",
      " 0.    0.    0.    0.    0.    0.    0.    0.    0.    0.    0.    0.\n",
      " 0.    0.089 0.    0.    0.    0.    0.    0.    0.    0.    0.    0.\n",
      " 0.    0.    0.    0.    0.    0.    0.    0.    0.    0.    0.    0.\n",
      " 0.002 0.   ]\n"
     ]
    }
   ],
   "source": [
    "# we imported the model using sci-learn kit\n",
    "\n",
    "# Use the forest's predict method on the test data\n",
    "predictions = rf.predict(test_features)\n",
    "# Calculate the absolute errors\n",
    "errors = abs(predictions - test_labels)\n",
    "# Print out the mean absolute error (mae)\n",
    "print('Mean Absolute Error:', round(np.mean(errors), 2), '')\n",
    "print(errors)\n",
    "#print(n12)"
   ]
  },
  {
   "cell_type": "code",
   "execution_count": 26,
   "metadata": {},
   "outputs": [],
   "source": [
    "# Calculate mean absolute percentage error (MAPE)\n",
    "#mape = 100 * (errors / test_labels)\n",
    "# Calculate and display accuracy\n",
    "#accuracy = 100 - np.mean(mape)\n",
    "#accuracy = 100 - Mean Absolute Error\n",
    "#print('Accuracy:', round(accuracy, 2), '%.')"
   ]
  },
  {
   "cell_type": "code",
   "execution_count": 27,
   "metadata": {},
   "outputs": [],
   "source": [
    "#from sklearn.metrics import accuracy_score\n",
    "#y_pred = [predictions]\n",
    "#y_true = [test_labels]\n",
    "#accuracy_score(y_true, y_pred)\n",
    "#accuracy_score(y_true, y_pred, normalize=False)"
   ]
  },
  {
   "cell_type": "code",
   "execution_count": 28,
   "metadata": {},
   "outputs": [],
   "source": [
    "#Accuracy: \n",
    "#    LinearRegression = 94.05 %.\n",
    "#    DecisionTreeRegressor = 91.78 %.\n",
    "#    RandomForestRegressor = 93.45 %."
   ]
  },
  {
   "cell_type": "code",
   "execution_count": 29,
   "metadata": {},
   "outputs": [
    {
     "data": {
      "text/plain": [
       "array([9.   , 9.   , 9.   , 7.   , 4.   , 9.   , 9.   , 9.   , 9.   ,\n",
       "       9.   , 1.   , 9.   , 1.   , 6.   , 6.   , 9.   , 9.   , 9.   ,\n",
       "       1.019, 9.   , 1.   , 4.   , 9.   , 9.   , 7.696, 7.   , 9.   ,\n",
       "       9.   , 9.   , 4.9  , 9.   , 1.   , 3.   , 1.   , 9.   , 9.   ,\n",
       "       4.872, 1.   , 1.   , 7.586, 6.   , 9.   , 9.   , 7.   , 7.   ,\n",
       "       9.   , 6.   , 7.   , 1.   , 7.   , 3.   , 9.   , 9.   , 9.   ,\n",
       "       9.   , 9.   , 9.   , 6.   , 9.   , 9.   , 7.   , 9.   , 9.   ,\n",
       "       9.   , 3.   , 6.   , 9.   , 7.   , 7.   , 9.   , 9.   , 9.   ,\n",
       "       9.   , 7.   , 9.   , 6.   , 1.   , 9.   , 9.   , 1.   , 1.   ,\n",
       "       9.   , 9.   , 1.   , 7.   , 1.   , 1.   , 1.   , 1.   , 4.9  ,\n",
       "       1.   , 9.   , 9.   , 9.   , 1.   , 9.   , 9.   , 7.   , 9.   ,\n",
       "       7.   , 7.   , 9.   , 9.   , 1.   , 9.   , 9.   , 5.   , 7.   ,\n",
       "       7.   , 9.   , 9.   , 7.   , 9.   , 6.   , 1.   , 1.   , 1.992,\n",
       "       9.   , 3.   , 9.   , 7.   , 9.   , 9.   , 9.   , 7.   , 3.   ,\n",
       "       7.   , 9.   , 9.   , 9.   , 1.   , 3.   , 5.003, 7.   , 9.   ,\n",
       "       9.   , 7.   , 1.   , 9.   , 9.   , 9.   , 9.   , 9.   , 1.   ,\n",
       "       9.   , 3.   , 9.   , 9.   , 9.   , 7.   , 7.   , 1.   , 9.   ,\n",
       "       6.   , 7.   , 3.   , 6.   , 6.   , 9.   , 1.   , 9.   , 9.   ,\n",
       "       1.   , 7.   , 7.   , 9.   , 6.   , 9.   , 4.   , 5.   , 9.   ,\n",
       "       7.988, 3.   , 9.   , 2.   , 1.   , 9.   , 3.   , 1.   , 9.   ,\n",
       "       1.   , 9.   , 7.682, 7.   , 7.   , 3.   , 1.   , 9.   , 9.   ,\n",
       "       7.   , 7.   , 9.   , 9.   , 9.   , 9.   , 3.   , 4.112, 9.   ,\n",
       "       1.   , 9.   , 7.   , 9.   , 3.   , 1.   , 3.   , 7.   , 9.   ,\n",
       "       9.   , 5.   , 9.   , 5.   , 1.   , 9.   , 9.   , 9.   , 9.   ,\n",
       "       1.   , 9.   , 9.   , 7.   , 9.   , 4.   , 9.   , 9.   , 9.   ,\n",
       "       9.   , 9.   , 4.007, 9.   , 9.   , 9.   , 9.   , 9.   , 9.   ,\n",
       "       7.   , 3.   , 1.992, 9.   , 9.   , 9.   , 9.   , 9.   , 9.   ,\n",
       "       7.   , 9.   , 9.   , 3.   , 9.   , 9.   , 9.   , 7.   , 4.9  ,\n",
       "       9.   , 7.   , 9.   , 1.306, 9.   , 7.   , 9.   , 9.   , 9.   ,\n",
       "       9.   , 1.   , 9.   , 7.   , 9.   , 9.   , 1.   , 9.   , 9.   ,\n",
       "       6.   , 7.   , 9.   , 7.   , 9.   , 1.   , 9.   , 7.   , 9.   ,\n",
       "       3.   , 5.   , 1.   , 1.   , 9.   , 3.   , 7.   , 9.   , 7.994,\n",
       "       2.   , 1.   , 9.   , 9.   , 1.   , 9.   , 9.   , 1.   , 7.   ,\n",
       "       1.   , 1.   , 9.   , 9.   , 1.911, 7.   , 9.   , 9.   , 9.   ,\n",
       "       9.   , 9.   , 9.   , 9.   , 9.   , 9.   , 7.   , 9.   , 7.   ,\n",
       "       7.   , 7.   , 9.   , 1.   , 7.   , 1.   , 9.   , 7.   , 9.   ,\n",
       "       1.002, 9.   ])"
      ]
     },
     "execution_count": 29,
     "metadata": {},
     "output_type": "execute_result"
    }
   ],
   "source": [
    "predictions"
   ]
  },
  {
   "cell_type": "code",
   "execution_count": 30,
   "metadata": {},
   "outputs": [
    {
     "data": {
      "text/plain": [
       "array([ 1, 98, 72, 61], dtype=int64)"
      ]
     },
     "execution_count": 30,
     "metadata": {},
     "output_type": "execute_result"
    }
   ],
   "source": [
    "features[1]"
   ]
  },
  {
   "cell_type": "code",
   "execution_count": 31,
   "metadata": {},
   "outputs": [
    {
     "data": {
      "text/plain": [
       "['health.joblib']"
      ]
     },
     "execution_count": 31,
     "metadata": {},
     "output_type": "execute_result"
    }
   ],
   "source": [
    "from joblib import dump, load\n",
    "dump(rf, 'health.joblib')"
   ]
  },
  {
   "cell_type": "code",
   "execution_count": 32,
   "metadata": {},
   "outputs": [
    {
     "data": {
      "text/plain": [
       "array([9.])"
      ]
     },
     "execution_count": 32,
     "metadata": {},
     "output_type": "execute_result"
    }
   ],
   "source": [
    "from joblib import dump, load\n",
    "import numpy as np\n",
    "model = load('health.joblib')\n",
    "features = np.array([[1,96 ,85, 30]])\n",
    "model.predict(features)\n"
   ]
  },
  {
   "cell_type": "code",
   "execution_count": 33,
   "metadata": {},
   "outputs": [],
   "source": [
    "def getAccuracy(testset, predictions):\n",
    "    correct=0\n",
    "    for x in range(len(testset)):\n",
    "        if testset[x][-1] is predictions[x]:\n",
    "            correct += 1\n",
    "    return (correct/float(len(testset)))*100.0   \n",
    "        "
   ]
  },
  {
   "cell_type": "code",
   "execution_count": 34,
   "metadata": {},
   "outputs": [],
   "source": [
    "from sklearn.metrics import mean_squared_error\n",
    "mse = mean_squared_error(test_labels, predictions)\n",
    "rmse = np.sqrt(mse)"
   ]
  },
  {
   "cell_type": "code",
   "execution_count": 35,
   "metadata": {},
   "outputs": [
    {
     "data": {
      "text/plain": [
       "0.04017416072781169"
      ]
     },
     "execution_count": 35,
     "metadata": {},
     "output_type": "execute_result"
    }
   ],
   "source": [
    "rmse"
   ]
  },
  {
   "cell_type": "code",
   "execution_count": 36,
   "metadata": {},
   "outputs": [],
   "source": [
    "#testset = [[test_features]]\n",
    "#predictions = [[test_labels]]\n",
    "#accuracy = getAccuracy(testset, predictions)\n",
    "#print(accuracy)"
   ]
  },
  {
   "cell_type": "code",
   "execution_count": 37,
   "metadata": {},
   "outputs": [
    {
     "name": "stdout",
     "output_type": "stream",
     "text": [
      "Accuracy: 99.81 %.\n"
     ]
    }
   ],
   "source": [
    "mape = 100 * (errors / test_labels)\n",
    "accuracy = 100 - np.mean(mape)\n",
    "print('Accuracy:', round(accuracy, 2),'%.')"
   ]
  },
  {
   "cell_type": "code",
   "execution_count": 38,
   "metadata": {},
   "outputs": [],
   "source": []
  },
  {
   "cell_type": "code",
   "execution_count": 39,
   "metadata": {},
   "outputs": [],
   "source": []
  },
  {
   "cell_type": "code",
   "execution_count": 40,
   "metadata": {},
   "outputs": [],
   "source": []
  },
  {
   "cell_type": "code",
   "execution_count": 41,
   "metadata": {},
   "outputs": [],
   "source": []
  },
  {
   "cell_type": "code",
   "execution_count": null,
   "metadata": {},
   "outputs": [],
   "source": []
  },
  {
   "cell_type": "code",
   "execution_count": null,
   "metadata": {},
   "outputs": [],
   "source": []
  },
  {
   "cell_type": "code",
   "execution_count": null,
   "metadata": {},
   "outputs": [],
   "source": []
  }
 ],
 "metadata": {
  "kernelspec": {
   "display_name": "Python 3",
   "language": "python",
   "name": "python3"
  },
  "language_info": {
   "codemirror_mode": {
    "name": "ipython",
    "version": 3
   },
   "file_extension": ".py",
   "mimetype": "text/x-python",
   "name": "python",
   "nbconvert_exporter": "python",
   "pygments_lexer": "ipython3",
   "version": "3.7.4"
  }
 },
 "nbformat": 4,
 "nbformat_minor": 2
}
